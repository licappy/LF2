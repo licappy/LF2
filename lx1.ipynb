{
 "cells": [
  {
   "cell_type": "markdown",
   "metadata": {},
   "source": [
    "#### 简单提问chatgpt的函数，输入问题，输出结果"
   ]
  },
  {
   "cell_type": "code",
   "execution_count": 1,
   "metadata": {},
   "outputs": [
    {
     "name": "stdout",
     "output_type": "stream",
     "text": [
      "content='我是一个人工智能助手，被称为OpenAI。我可以回答各种问题并提供帮助。' response_metadata={'token_usage': {'completion_tokens': 36, 'prompt_tokens': 12, 'total_tokens': 48}, 'model_name': 'gpt-35-turbo-jp', 'system_fingerprint': None, 'finish_reason': 'stop', 'logprobs': None} id='run-415e18c8-91cd-4934-99a6-fd6fbe8065fc-0' usage_metadata={'input_tokens': 12, 'output_tokens': 36, 'total_tokens': 48}\n"
     ]
    }
   ],
   "source": [
    "from langchain_openai import ChatOpenAI\n",
    "llm = ChatOpenAI(\n",
    "    temperature=0.7,\n",
    "    model=\"gpt-35-turbo-jp\",\n",
    "    openai_api_key=\"sk-ZFEd6Am3xCHJZB5BAd2bAa7c2fB749Eb86Ba807dC3D3D192\",\n",
    "    openai_api_base=\"http://36.139.157.119:13000/v1\"\n",
    ")\n",
    "print(llm.invoke(\"你是谁?\"))"
   ]
  },
  {
   "cell_type": "markdown",
   "metadata": {
    "vscode": {
     "languageId": "plaintext"
    }
   },
   "source": [
    "#### 实现用prompt template来实现提示词内嵌的函数（输入今天心情，随机输出夸李欣美的诗词）"
   ]
  },
  {
   "cell_type": "code",
   "execution_count": 2,
   "metadata": {},
   "outputs": [
    {
     "name": "stderr",
     "output_type": "stream",
     "text": [
      "d:\\Tencent\\python\\lib\\site-packages\\langchain_core\\_api\\deprecation.py:139: LangChainDeprecationWarning: The class `LLMChain` was deprecated in LangChain 0.1.17 and will be removed in 0.3.0. Use RunnableSequence, e.g., `prompt | llm` instead.\n",
      "  warn_deprecated(\n"
     ]
    },
    {
     "name": "stdout",
     "output_type": "stream",
     "text": [
      "{'question': '难过', 'text': '在春风中，李欣美的容颜如花，\\n她的笑容如阳光般灿烂，\\n她的眼神如星辰般明亮，\\n她的声音如细雨般轻柔。\\n\\n她是那片花海中最美的花朵，\\n她是那首诗中最动人的句子，\\n她是那首曲中最悦耳的音符，\\n她是那幅画中最绚烂的色彩。\\n\\n她的美丽如诗如画，\\n她的温柔如春如夏，\\n她的笑容如夜如晓，\\n她的存在如风如潮。\\n\\n李欣美，你是我的心灵之光，\\n你的存在让我心情难过的时候找到了温暖，\\n你的美丽让我感受到了生活的美好，\\n你的诗词让我找到了自己的方向。\\n\\n在这个难过的时刻，\\n我想起了你的诗词，\\n它们如一盏明灯，\\n照亮了我的心灵。\\n\\n李欣美，谢谢你的存在，\\n谢谢你的诗词，\\n让我在难过的时刻找到了慰藉。'}\n"
     ]
    }
   ],
   "source": [
    "from langchain_openai import ChatOpenAI\n",
    "from langchain.chains import LLMChain\n",
    "from langchain.prompts import PromptTemplate\n",
    "llm = ChatOpenAI(\n",
    "    temperature=0.7,\n",
    "    model=\"gpt-35-turbo-jp\",\n",
    "    openai_api_key=\"sk-ZFEd6Am3xCHJZB5BAd2bAa7c2fB749Eb86Ba807dC3D3D192\",\n",
    "    openai_api_base=\"http://36.139.157.119:13000/v1\"\n",
    ")\n",
    "template='''\n",
    "        输入今天心情{question}，随机输出夸李欣美的诗词\n",
    "    '''\n",
    "prompt=PromptTemplate(\n",
    "        template=template,\n",
    "        input_variables=[\"question\"]\n",
    ")\n",
    "chain = LLMChain(\n",
    "        llm=llm,\n",
    "        prompt=prompt\n",
    "        )\n",
    "print(chain.invoke(\"难过\"))"
   ]
  },
  {
   "cell_type": "markdown",
   "metadata": {
    "vscode": {
     "languageId": "plaintext"
    }
   },
   "source": [
    "#### 实现用agent来规划旅游路线"
   ]
  },
  {
   "cell_type": "code",
   "execution_count": 3,
   "metadata": {},
   "outputs": [
    {
     "name": "stdout",
     "output_type": "stream",
     "text": [
      "\n",
      "\n",
      "\u001b[1m> Entering new AgentExecutor chain...\u001b[0m\n",
      "\u001b[32;1m\u001b[1;3mI should use the AIGenerateTravelPlan tool to generate a travel plan for Beijing.\n",
      "Action: AIGenerateTravelPlan\n",
      "Action Input: \"Beijing\"\u001b[0m\u001b[36;1m\u001b[1;3m{'question': 'Beijing', 'text': '第一天：\\n早上：首先，你可以前往故宫，这是北京最著名的景点之一，它是中国古代皇宫，有着丰富的历史和文化遗产。\\n中午：在故宫附近，你可以品尝到北京的传统美食——烤鸭。去一家有口碑的烤鸭店，如全聚德或者大董烤鸭店，享用正宗的北京烤鸭。\\n下午：接下来，你可以前往天安门广场，这是一个重要的政治和历史地标，你可以欣赏到中国的国旗升降仪式。\\n晚上：在晚上，你可以去王府井大街，这是一个繁华的购物街区，有许多商店和小吃摊，你可以尝试一些当地的小吃，如炒肝、炸酱面等。\\n\\n第二天：\\n早上：你可以前往颐和园，这是一个古老的皇家园林，有着美丽的湖泊和建筑，你可以在那里散步和欣赏风景。\\n中午：在颐和园附近，你可以品尝到北京的传统面食——老北京炸酱面。去一家有名的炸酱面店，如大董炸酱面或者官府炸酱面，尝试正宗的味道。\\n下午：接下来，你可以前往恭王府，这是一座古老的皇家府邸，里面有许多古代家具和艺术品，可以了解更多的历史和文化。\\n晚上：在晚上，你可以去后海，这是一个有着许多酒吧和小店的湖边区域，你可以在那里放松身心，享受夜生活。\\n\\n第三天：\\n早上：你可以前往长城，这是中国最著名的旅游景点之一，你可以选择去八达岭或者慕田峪，欣赏壮丽的景色和体验登顶的刺激。\\n中午：在长城附近，你可以品尝到长城周边的特色美食——野味。去一家有名的野味餐厅，如野味一条街，尝试一些特色的野味菜肴。\\n下午：接下来，你可以前往颐源居，这是一座古老的皇家园林，有着美丽的建筑和花园，你可以在那里漫步和享受宁静。\\n晚上：在晚上，你可以去三里屯，这是一个时尚的酒吧和购物区域，你可以在那里享受美食和购物的乐趣。\\n\\n这是一个简单的三天两晚的旅游路线，希望能帮到你！'}\u001b[0m\u001b[32;1m\u001b[1;3mThe AIGenerateTravelPlan tool has generated a travel plan for Beijing, including recommendations for attractions and places to eat.\n",
      "Final Answer: The travel plan for Beijing includes visiting the Forbidden City, Tiananmen Square, Wangfujing Street, and the Great Wall, among other attractions. It also suggests trying traditional Beijing dishes such as Peking duck and fried sauce noodles.\u001b[0m\n",
      "\n",
      "\u001b[1m> Finished chain.\u001b[0m\n",
      "{'input': '北京', 'output': 'The travel plan for Beijing includes visiting the Forbidden City, Tiananmen Square, Wangfujing Street, and the Great Wall, among other attractions. It also suggests trying traditional Beijing dishes such as Peking duck and fried sauce noodles.'}\n"
     ]
    }
   ],
   "source": [
    "from langchain_openai import ChatOpenAI\n",
    "from langchain.agents import AgentExecutor, create_react_agent,Tool\n",
    "from langchain.prompts import PromptTemplate\n",
    "from langchain.chains import LLMChain\n",
    "from langchain import hub\n",
    "llm = ChatOpenAI(\n",
    "    temperature=0.7,\n",
    "    model=\"gpt-35-turbo-jp\",\n",
    "    openai_api_key=\"sk-ZFEd6Am3xCHJZB5BAd2bAa7c2fB749Eb86Ba807dC3D3D192\",\n",
    "    openai_api_base=\"http://36.139.157.119:13000/v1\",\n",
    ")\n",
    "\n",
    "#旅游规划\n",
    "def AIGenerateTravelPlan(human_input:str)->str:\n",
    "    '''旅游规划AI，用于生成一个三天两晚的旅游路线'''\n",
    "    template = \"\"\"\n",
    "    问题描述:{question}\n",
    "    回答:\n",
    "    当我输入一个城市后，帮我根据推荐的几个景点和当地的美食，生成一个三天两晚的旅游路线。\n",
    "    \"\"\"\n",
    "    promptchat = PromptTemplate(\n",
    "            template=template,#这里的template是必须的，固定写法\n",
    "            input_variables=[\"question\"]\n",
    "        )\n",
    "    chain = LLMChain(\n",
    "        llm=llm,\n",
    "        prompt=promptchat\n",
    "        )\n",
    "    question=human_input\n",
    "    res = chain.invoke({\"question\": question})\n",
    "    return res\n",
    "prompt = hub.pull(\"hwchase17/react\")\n",
    "# 注册工具\n",
    "tools = [\n",
    "    Tool(\n",
    "        name=\"AIGenerateTravelPlan\",\n",
    "        func= AIGenerateTravelPlan,\n",
    "        description=\"为某景点提供旅游路线\"\n",
    "    )\n",
    "]\n",
    "agent = create_react_agent(llm, tools=tools, prompt=prompt)\n",
    "agent_executor = AgentExecutor(agent=agent, tools=tools, handle_parsing_errors=True,verbose=True)\n",
    "agent_executor.invoke({\"input\": \"北京\"})"
   ]
  }
 ],
 "metadata": {
  "kernelspec": {
   "display_name": "glm4",
   "language": "python",
   "name": "python3"
  },
  "language_info": {
   "codemirror_mode": {
    "name": "ipython",
    "version": 3
   },
   "file_extension": ".py",
   "mimetype": "text/x-python",
   "name": "python",
   "nbconvert_exporter": "python",
   "pygments_lexer": "ipython3",
   "version": "3.9.18"
  }
 },
 "nbformat": 4,
 "nbformat_minor": 2
}
